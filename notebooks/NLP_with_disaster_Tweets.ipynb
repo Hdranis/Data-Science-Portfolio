{
 "cells": [
  {
   "cell_type": "markdown",
   "metadata": {},
   "source": [
    "# Project - NLP with disaster tweets"
   ]
  },
  {
   "cell_type": "code",
   "execution_count": 1,
   "metadata": {},
   "outputs": [],
   "source": [
    "import pandas as pd\n",
    "import numpy as np\n",
    "import matplotlib.pyplot as plt\n",
    "import tensorflow as tf\n",
    "import tensorflow_datasets as tfds"
   ]
  },
  {
   "cell_type": "code",
   "execution_count": 2,
   "metadata": {},
   "outputs": [
    {
     "data": {
      "text/plain": [
       "'2.2.0-rc3'"
      ]
     },
     "execution_count": 2,
     "metadata": {},
     "output_type": "execute_result"
    }
   ],
   "source": [
    "tf.__version__"
   ]
  },
  {
   "cell_type": "code",
   "execution_count": 3,
   "metadata": {},
   "outputs": [],
   "source": [
    "train = pd.read_csv(\"nlp-getting-started/train.csv\")\n",
    "test = pd.read_csv(\"nlp-getting-started/test.csv\")"
   ]
  },
  {
   "cell_type": "code",
   "execution_count": 4,
   "metadata": {},
   "outputs": [
    {
     "data": {
      "text/html": [
       "<div>\n",
       "<style scoped>\n",
       "    .dataframe tbody tr th:only-of-type {\n",
       "        vertical-align: middle;\n",
       "    }\n",
       "\n",
       "    .dataframe tbody tr th {\n",
       "        vertical-align: top;\n",
       "    }\n",
       "\n",
       "    .dataframe thead th {\n",
       "        text-align: right;\n",
       "    }\n",
       "</style>\n",
       "<table border=\"1\" class=\"dataframe\">\n",
       "  <thead>\n",
       "    <tr style=\"text-align: right;\">\n",
       "      <th></th>\n",
       "      <th>id</th>\n",
       "      <th>keyword</th>\n",
       "      <th>location</th>\n",
       "      <th>text</th>\n",
       "      <th>target</th>\n",
       "    </tr>\n",
       "  </thead>\n",
       "  <tbody>\n",
       "    <tr>\n",
       "      <th>0</th>\n",
       "      <td>1</td>\n",
       "      <td>NaN</td>\n",
       "      <td>NaN</td>\n",
       "      <td>Our Deeds are the Reason of this #earthquake M...</td>\n",
       "      <td>1</td>\n",
       "    </tr>\n",
       "    <tr>\n",
       "      <th>1</th>\n",
       "      <td>4</td>\n",
       "      <td>NaN</td>\n",
       "      <td>NaN</td>\n",
       "      <td>Forest fire near La Ronge Sask. Canada</td>\n",
       "      <td>1</td>\n",
       "    </tr>\n",
       "    <tr>\n",
       "      <th>2</th>\n",
       "      <td>5</td>\n",
       "      <td>NaN</td>\n",
       "      <td>NaN</td>\n",
       "      <td>All residents asked to 'shelter in place' are ...</td>\n",
       "      <td>1</td>\n",
       "    </tr>\n",
       "    <tr>\n",
       "      <th>3</th>\n",
       "      <td>6</td>\n",
       "      <td>NaN</td>\n",
       "      <td>NaN</td>\n",
       "      <td>13,000 people receive #wildfires evacuation or...</td>\n",
       "      <td>1</td>\n",
       "    </tr>\n",
       "    <tr>\n",
       "      <th>4</th>\n",
       "      <td>7</td>\n",
       "      <td>NaN</td>\n",
       "      <td>NaN</td>\n",
       "      <td>Just got sent this photo from Ruby #Alaska as ...</td>\n",
       "      <td>1</td>\n",
       "    </tr>\n",
       "  </tbody>\n",
       "</table>\n",
       "</div>"
      ],
      "text/plain": [
       "   id keyword location                                               text  \\\n",
       "0   1     NaN      NaN  Our Deeds are the Reason of this #earthquake M...   \n",
       "1   4     NaN      NaN             Forest fire near La Ronge Sask. Canada   \n",
       "2   5     NaN      NaN  All residents asked to 'shelter in place' are ...   \n",
       "3   6     NaN      NaN  13,000 people receive #wildfires evacuation or...   \n",
       "4   7     NaN      NaN  Just got sent this photo from Ruby #Alaska as ...   \n",
       "\n",
       "   target  \n",
       "0       1  \n",
       "1       1  \n",
       "2       1  \n",
       "3       1  \n",
       "4       1  "
      ]
     },
     "execution_count": 4,
     "metadata": {},
     "output_type": "execute_result"
    }
   ],
   "source": [
    "train.head()"
   ]
  },
  {
   "cell_type": "code",
   "execution_count": 5,
   "metadata": {},
   "outputs": [
    {
     "data": {
      "text/plain": [
       "(7613, 5)"
      ]
     },
     "execution_count": 5,
     "metadata": {},
     "output_type": "execute_result"
    }
   ],
   "source": [
    "train.shape"
   ]
  },
  {
   "cell_type": "code",
   "execution_count": 6,
   "metadata": {},
   "outputs": [
    {
     "data": {
      "text/html": [
       "<div>\n",
       "<style scoped>\n",
       "    .dataframe tbody tr th:only-of-type {\n",
       "        vertical-align: middle;\n",
       "    }\n",
       "\n",
       "    .dataframe tbody tr th {\n",
       "        vertical-align: top;\n",
       "    }\n",
       "\n",
       "    .dataframe thead th {\n",
       "        text-align: right;\n",
       "    }\n",
       "</style>\n",
       "<table border=\"1\" class=\"dataframe\">\n",
       "  <thead>\n",
       "    <tr style=\"text-align: right;\">\n",
       "      <th></th>\n",
       "      <th>id</th>\n",
       "      <th>keyword</th>\n",
       "      <th>location</th>\n",
       "      <th>text</th>\n",
       "    </tr>\n",
       "  </thead>\n",
       "  <tbody>\n",
       "    <tr>\n",
       "      <th>0</th>\n",
       "      <td>0</td>\n",
       "      <td>NaN</td>\n",
       "      <td>NaN</td>\n",
       "      <td>Just happened a terrible car crash</td>\n",
       "    </tr>\n",
       "    <tr>\n",
       "      <th>1</th>\n",
       "      <td>2</td>\n",
       "      <td>NaN</td>\n",
       "      <td>NaN</td>\n",
       "      <td>Heard about #earthquake is different cities, s...</td>\n",
       "    </tr>\n",
       "    <tr>\n",
       "      <th>2</th>\n",
       "      <td>3</td>\n",
       "      <td>NaN</td>\n",
       "      <td>NaN</td>\n",
       "      <td>there is a forest fire at spot pond, geese are...</td>\n",
       "    </tr>\n",
       "    <tr>\n",
       "      <th>3</th>\n",
       "      <td>9</td>\n",
       "      <td>NaN</td>\n",
       "      <td>NaN</td>\n",
       "      <td>Apocalypse lighting. #Spokane #wildfires</td>\n",
       "    </tr>\n",
       "    <tr>\n",
       "      <th>4</th>\n",
       "      <td>11</td>\n",
       "      <td>NaN</td>\n",
       "      <td>NaN</td>\n",
       "      <td>Typhoon Soudelor kills 28 in China and Taiwan</td>\n",
       "    </tr>\n",
       "  </tbody>\n",
       "</table>\n",
       "</div>"
      ],
      "text/plain": [
       "   id keyword location                                               text\n",
       "0   0     NaN      NaN                 Just happened a terrible car crash\n",
       "1   2     NaN      NaN  Heard about #earthquake is different cities, s...\n",
       "2   3     NaN      NaN  there is a forest fire at spot pond, geese are...\n",
       "3   9     NaN      NaN           Apocalypse lighting. #Spokane #wildfires\n",
       "4  11     NaN      NaN      Typhoon Soudelor kills 28 in China and Taiwan"
      ]
     },
     "execution_count": 6,
     "metadata": {},
     "output_type": "execute_result"
    }
   ],
   "source": [
    "test.head()"
   ]
  },
  {
   "cell_type": "code",
   "execution_count": 7,
   "metadata": {},
   "outputs": [
    {
     "data": {
      "text/plain": [
       "(3263, 4)"
      ]
     },
     "execution_count": 7,
     "metadata": {},
     "output_type": "execute_result"
    }
   ],
   "source": [
    "test.shape"
   ]
  },
  {
   "cell_type": "markdown",
   "metadata": {},
   "source": [
    "**Let's look to an example of a non disaster tweet:**"
   ]
  },
  {
   "cell_type": "code",
   "execution_count": 74,
   "metadata": {
    "scrolled": true
   },
   "outputs": [
    {
     "data": {
      "text/plain": [
       "'I love fruits'"
      ]
     },
     "execution_count": 74,
     "metadata": {},
     "output_type": "execute_result"
    }
   ],
   "source": [
    "train[train[\"target\"]==0][\"text\"].values[1]"
   ]
  },
  {
   "cell_type": "markdown",
   "metadata": {},
   "source": [
    "**Now, a disaster one :**"
   ]
  },
  {
   "cell_type": "code",
   "execution_count": 9,
   "metadata": {
    "scrolled": true
   },
   "outputs": [
    {
     "data": {
      "text/plain": [
       "'Forest fire near La Ronge Sask. Canada'"
      ]
     },
     "execution_count": 9,
     "metadata": {},
     "output_type": "execute_result"
    }
   ],
   "source": [
    "train[train[\"target\"]==1][\"text\"].values[1]"
   ]
  },
  {
   "cell_type": "code",
   "execution_count": 10,
   "metadata": {},
   "outputs": [
    {
     "data": {
      "text/plain": [
       "0    0.57034\n",
       "1    0.42966\n",
       "Name: target, dtype: float64"
      ]
     },
     "execution_count": 10,
     "metadata": {},
     "output_type": "execute_result"
    }
   ],
   "source": [
    "train.target.value_counts(1)"
   ]
  },
  {
   "cell_type": "markdown",
   "metadata": {},
   "source": [
    "**Missing values ?**"
   ]
  },
  {
   "cell_type": "code",
   "execution_count": 11,
   "metadata": {},
   "outputs": [
    {
     "data": {
      "text/plain": [
       "id             0\n",
       "keyword       61\n",
       "location    2533\n",
       "text           0\n",
       "target         0\n",
       "dtype: int64"
      ]
     },
     "execution_count": 11,
     "metadata": {},
     "output_type": "execute_result"
    }
   ],
   "source": [
    "train.isna().sum()"
   ]
  },
  {
   "cell_type": "code",
   "execution_count": 12,
   "metadata": {},
   "outputs": [],
   "source": [
    "train.location = train[\"location\"].fillna(\"no_location\")\n",
    "train.keyword = train.keyword.fillna(\"no_keyword\")"
   ]
  },
  {
   "cell_type": "markdown",
   "metadata": {},
   "source": [
    "## Preprocessing"
   ]
  },
  {
   "cell_type": "code",
   "execution_count": 75,
   "metadata": {},
   "outputs": [],
   "source": [
    "# Créating a tf dataset from pandas \n",
    "tf_ds = tf.data.Dataset.from_tensor_slices((train.text.values,train.target.values))"
   ]
  },
  {
   "cell_type": "code",
   "execution_count": 76,
   "metadata": {},
   "outputs": [
    {
     "data": {
      "text/plain": [
       "<TensorSliceDataset shapes: ((), ()), types: (tf.string, tf.int64)>"
      ]
     },
     "execution_count": 76,
     "metadata": {},
     "output_type": "execute_result"
    }
   ],
   "source": [
    "tf_ds"
   ]
  },
  {
   "cell_type": "code",
   "execution_count": 77,
   "metadata": {},
   "outputs": [
    {
     "name": "stdout",
     "output_type": "stream",
     "text": [
      "tf.Tensor(b'Our Deeds are the Reason of this #earthquake May ALLAH Forgive us all', shape=(), dtype=string) tf.Tensor(1, shape=(), dtype=int64)\n"
     ]
    }
   ],
   "source": [
    "# Let's look at an example: \n",
    "for text, target in tf_ds.take(1):\n",
    "    print(text,target)"
   ]
  },
  {
   "cell_type": "code",
   "execution_count": 78,
   "metadata": {},
   "outputs": [],
   "source": [
    "# Shuffle the dataset \n",
    "BUFFER_SIZE = len(train)\n",
    "\n",
    "tf_ds = tf_ds.shuffle(BUFFER_SIZE)"
   ]
  },
  {
   "cell_type": "code",
   "execution_count": 79,
   "metadata": {},
   "outputs": [],
   "source": [
    "# tokenizing each words and removing duplicates witt set()\n",
    "tokenizer = tfds.features.text.Tokenizer()\n",
    "vocabulary_set = set()\n",
    "for text, _ in tf_ds:\n",
    "    doc_1 = tokenizer.tokenize(text.numpy())\n",
    "    vocabulary_set.update(doc_1) "
   ]
  },
  {
   "cell_type": "code",
   "execution_count": 80,
   "metadata": {},
   "outputs": [
    {
     "data": {
      "text/plain": [
       "25863"
      ]
     },
     "execution_count": 80,
     "metadata": {},
     "output_type": "execute_result"
    }
   ],
   "source": [
    "vocab_size = len(vocabulary_set)\n",
    "vocab_size"
   ]
  },
  {
   "cell_type": "code",
   "execution_count": 19,
   "metadata": {},
   "outputs": [],
   "source": [
    "# Creating a number for each token\n",
    "encoder = tfds.features.text.TokenTextEncoder(vocabulary_set)"
   ]
  },
  {
   "cell_type": "code",
   "execution_count": 81,
   "metadata": {},
   "outputs": [
    {
     "data": {
      "text/plain": [
       "25865"
      ]
     },
     "execution_count": 81,
     "metadata": {},
     "output_type": "execute_result"
    }
   ],
   "source": [
    "encoder.vocab_size"
   ]
  },
  {
   "cell_type": "code",
   "execution_count": 82,
   "metadata": {},
   "outputs": [
    {
     "name": "stdout",
     "output_type": "stream",
     "text": [
      "[7691, 21012, 17241, 21515, 19611, 5458, 3330, 5363, 19041, 25086, 13420, 15421, 14885, 9009, 25229, 4395, 1479, 17660, 11406, 16541]\n",
      "b\"There's a Storm over Cairo in the latest 'X-Men Apocalypse' set photo https://t.co/fS012trUDG via @YahooTV\"\n",
      "There s a Storm over Cairo in the latest X Men Apocalypse set photo https t co fS012trUDG via YahooTV\n"
     ]
    }
   ],
   "source": [
    "# Let's look at an example:\n",
    "for example, _ in tf_ds.take(1):\n",
    "    enc = encoder.encode(example.numpy())\n",
    "    print(enc)\n",
    "    print(example.numpy())\n",
    "    print(encoder.decode(enc))"
   ]
  },
  {
   "cell_type": "code",
   "execution_count": 83,
   "metadata": {},
   "outputs": [],
   "source": [
    "# Encoding all elements of a dataset\n",
    "def encode(text, target):\n",
    "    encoded_text = encoder.encode(text.numpy())\n",
    "    return encoded_text, target\n",
    "\n",
    "# Use of py_function to encode the entire dataset \n",
    "def encode_map(text, target):\n",
    "    encoded_text, target = tf.py_function(encode, inp=[text, target], Tout=(tf.int64, tf.int64))\n",
    "\n",
    "# `tf.data.Datasets` work best if all components have a shape set\n",
    "#  so set the shapes manually:\n",
    "\n",
    "    encoded_text.set_shape([None])\n",
    "    target.set_shape([])\n",
    "    \n",
    "    return encoded_text, target"
   ]
  },
  {
   "cell_type": "code",
   "execution_count": 84,
   "metadata": {},
   "outputs": [],
   "source": [
    "encoded_data = tf_ds.map(encode_map) "
   ]
  },
  {
   "cell_type": "code",
   "execution_count": 85,
   "metadata": {},
   "outputs": [],
   "source": [
    "DROP_SIZE = int(0.30 * len(train))\n",
    "\n",
    "train_data = encoded_data.skip(DROP_SIZE).shuffle(BUFFER_SIZE)\n",
    "validation_data = encoded_data.take(DROP_SIZE)"
   ]
  },
  {
   "cell_type": "code",
   "execution_count": 99,
   "metadata": {},
   "outputs": [
    {
     "name": "stdout",
     "output_type": "stream",
     "text": [
      "334\n"
     ]
    },
    {
     "data": {
      "text/plain": [
       "143"
      ]
     },
     "execution_count": 99,
     "metadata": {},
     "output_type": "execute_result"
    }
   ],
   "source": [
    "print(len([i for i in train_data]))\n",
    "len([i for i in validation_data])"
   ]
  },
  {
   "cell_type": "code",
   "execution_count": 87,
   "metadata": {},
   "outputs": [],
   "source": [
    "BATCH_SIZE = 16\n",
    "\n",
    "train_data = train_data.padded_batch(BATCH_SIZE)\n",
    "validation_data = validation_data.padded_batch(BATCH_SIZE)"
   ]
  },
  {
   "cell_type": "code",
   "execution_count": 56,
   "metadata": {
    "collapsed": true
   },
   "outputs": [
    {
     "name": "stdout",
     "output_type": "stream",
     "text": [
      "tf.Tensor(\n",
      "[[[ 8823 10279 24293 ...     0     0     0]\n",
      "  [14365 21949 19044 ...     0     0     0]\n",
      "  [ 2134  3076 16770 ...     0     0     0]\n",
      "  ...\n",
      "  [15493 17034 18492 ...     0     0     0]\n",
      "  [ 1215  1793  2162 ...     0     0     0]\n",
      "  [ 8469  6422  5363 ...     0     0     0]]\n",
      "\n",
      " [[ 6904 22883  9773 ...     0     0     0]\n",
      "  [19464  3330 19041 ...     0     0     0]\n",
      "  [17698 22597 18141 ...     0     0     0]\n",
      "  ...\n",
      "  [22262  3330  9283 ...     0     0     0]\n",
      "  [ 8052 11355 17034 ...     0     0     0]\n",
      "  [24837 25349  6225 ...     0     0     0]]\n",
      "\n",
      " [[ 1418  3270 17045 ...     0     0     0]\n",
      "  [14352 19411  8823 ...     0     0     0]\n",
      "  [17598 16415 11448 ...     0     0     0]\n",
      "  ...\n",
      "  [24552  7834   907 ...     0     0     0]\n",
      "  [ 8823 24749 17241 ...     0     0     0]\n",
      "  [16010 23602 20673 ...     0     0     0]]\n",
      "\n",
      " ...\n",
      "\n",
      " [[14125  5845  4098 ...     0     0     0]\n",
      "  [ 4033   789  7521 ...     0     0     0]\n",
      "  [23786  2134  6284 ...     0     0     0]\n",
      "  ...\n",
      "  [ 6436  7216  6879 ...     0     0     0]\n",
      "  [17806 18878  1526 ...     0     0     0]\n",
      "  [21279  3488  6591 ...     0     0     0]]\n",
      "\n",
      " [[10844 16157 19611 ...     0     0     0]\n",
      "  [11147 25747 23676 ...     0     0     0]\n",
      "  [ 6284  6029 14449 ...     0     0     0]\n",
      "  ...\n",
      "  [ 5697 14008 18861 ...     0     0     0]\n",
      "  [13009 23602  3181 ...     0     0     0]\n",
      "  [25107 16493  7548 ...     0     0     0]]\n",
      "\n",
      " [[ 1526 24293 25329 ...     0     0     0]\n",
      "  [16796 19338 11884 ...     0     0     0]\n",
      "  [16048  7254  7056 ...     0     0     0]\n",
      "  ...\n",
      "  [15464 23699   746 ...     0     0     0]\n",
      "  [ 9739  8549  9302 ...     0     0     0]\n",
      "  [ 9440 25441 19447 ...     0     0     0]]], shape=(16, 16, 33), dtype=int64) tf.Tensor(\n",
      "[[0 0 0 1 0 1 1 0 1 0 0 0 0 0 0 0]\n",
      " [0 1 0 0 0 0 1 0 0 0 0 0 0 1 0 0]\n",
      " [0 0 0 1 0 0 1 0 0 0 0 0 0 0 0 1]\n",
      " [0 0 1 1 0 0 0 1 0 1 0 0 0 0 1 1]\n",
      " [0 0 1 0 1 0 0 1 1 1 1 0 1 1 0 1]\n",
      " [0 0 0 1 0 1 0 0 0 1 1 0 1 0 1 0]\n",
      " [0 0 0 0 0 0 1 1 1 0 1 0 1 0 1 1]\n",
      " [0 1 0 0 1 0 0 0 0 0 1 1 1 0 0 0]\n",
      " [1 0 1 0 1 1 0 1 0 0 1 0 0 0 0 1]\n",
      " [1 0 1 0 0 1 0 1 1 0 1 0 0 0 0 0]\n",
      " [0 0 0 0 0 0 0 0 0 0 0 0 1 1 1 0]\n",
      " [1 0 1 1 0 1 1 0 1 0 1 1 0 0 1 0]\n",
      " [0 0 1 0 0 0 0 1 0 0 1 1 1 1 0 0]\n",
      " [1 0 0 0 1 1 0 1 0 1 0 1 1 1 0 1]\n",
      " [1 1 0 1 0 0 0 1 0 1 1 1 0 0 1 0]\n",
      " [0 0 0 0 1 1 1 1 1 1 0 0 0 1 0 0]], shape=(16, 16), dtype=int64)\n"
     ]
    }
   ],
   "source": [
    "# Let's look at a batch \n",
    "for text, target in train_data.take(1):\n",
    "    print(text, target)"
   ]
  },
  {
   "cell_type": "markdown",
   "metadata": {},
   "source": [
    "## Creating the model"
   ]
  },
  {
   "cell_type": "code",
   "execution_count": 89,
   "metadata": {},
   "outputs": [],
   "source": [
    "model = tf.keras.Sequential()"
   ]
  },
  {
   "cell_type": "code",
   "execution_count": 90,
   "metadata": {},
   "outputs": [],
   "source": [
    "# The first layer converts integer representations to dense vector embeddings.\n",
    "model.add(tf.keras.layers.Embedding(encoder.vocab_size, 64))"
   ]
  },
  {
   "cell_type": "code",
   "execution_count": 91,
   "metadata": {},
   "outputs": [],
   "source": [
    "# The next layer is a Long Short-Term Memory layer, \n",
    "# which lets the model understand words in their context with other words. \n",
    "# A bidirectional wrapper on the LSTM helps it to learn about the datapoints \n",
    "# in relationship to the datapoints that came before it and after it.\n",
    "\n",
    "model.add(tf.keras.layers.Bidirectional(tf.keras.layers.LSTM(64)))\n",
    "\n",
    "# Finally we'll have a series of one or more densely connected layers, \n",
    "# with the last one being the output layer. \n",
    "# The output layer produces a probability for all the labels. \n",
    "# The one with the highest probability is the models prediction of an example's label.\n",
    "\n",
    "model.add(tf.keras.layers.Dense(64, activation='relu'))\n",
    "model.add(tf.keras.layers.Dense(32, activation='relu'))\n",
    "\n",
    "# Output layer. The first argument is the number of labels.\n",
    "model.add(tf.keras.layers.Dense(1, activation='sigmoid'))"
   ]
  },
  {
   "cell_type": "code",
   "execution_count": 92,
   "metadata": {},
   "outputs": [
    {
     "name": "stdout",
     "output_type": "stream",
     "text": [
      "Model: \"sequential_5\"\n",
      "_________________________________________________________________\n",
      "Layer (type)                 Output Shape              Param #   \n",
      "=================================================================\n",
      "embedding_5 (Embedding)      (None, None, 64)          1655360   \n",
      "_________________________________________________________________\n",
      "bidirectional_5 (Bidirection (None, 128)               66048     \n",
      "_________________________________________________________________\n",
      "dense_15 (Dense)             (None, 64)                8256      \n",
      "_________________________________________________________________\n",
      "dense_16 (Dense)             (None, 32)                2080      \n",
      "_________________________________________________________________\n",
      "dense_17 (Dense)             (None, 1)                 33        \n",
      "=================================================================\n",
      "Total params: 1,731,777\n",
      "Trainable params: 1,731,777\n",
      "Non-trainable params: 0\n",
      "_________________________________________________________________\n"
     ]
    }
   ],
   "source": [
    "model.summary()"
   ]
  },
  {
   "cell_type": "code",
   "execution_count": 93,
   "metadata": {},
   "outputs": [],
   "source": [
    "model.compile(optimizer='adam',\n",
    "              loss=tf.keras.losses.binary_crossentropy,\n",
    "              metrics=[tf.keras.metrics.binary_accuracy])"
   ]
  },
  {
   "cell_type": "code",
   "execution_count": 94,
   "metadata": {},
   "outputs": [
    {
     "name": "stdout",
     "output_type": "stream",
     "text": [
      "Epoch 1/15\n",
      "334/334 [==============================] - 24s 71ms/step - loss: 0.5378 - binary_accuracy: 0.7276 - val_loss: 0.3699 - val_binary_accuracy: 0.8730\n",
      "Epoch 2/15\n",
      "334/334 [==============================] - 22s 64ms/step - loss: 0.3227 - binary_accuracy: 0.8698 - val_loss: 0.2092 - val_binary_accuracy: 0.9347\n",
      "Epoch 3/15\n",
      "334/334 [==============================] - 21s 63ms/step - loss: 0.1968 - binary_accuracy: 0.9276 - val_loss: 0.1173 - val_binary_accuracy: 0.9654\n",
      "Epoch 4/15\n",
      "334/334 [==============================] - 20s 61ms/step - loss: 0.1205 - binary_accuracy: 0.9574 - val_loss: 0.0624 - val_binary_accuracy: 0.9781\n",
      "Epoch 5/15\n",
      "334/334 [==============================] - 30s 89ms/step - loss: 0.0789 - binary_accuracy: 0.9743 - val_loss: 0.0376 - val_binary_accuracy: 0.9860\n",
      "Epoch 6/15\n",
      "334/334 [==============================] - 25s 76ms/step - loss: 0.0509 - binary_accuracy: 0.9846 - val_loss: 0.0277 - val_binary_accuracy: 0.9904\n",
      "Epoch 7/15\n",
      "334/334 [==============================] - 25s 75ms/step - loss: 0.0295 - binary_accuracy: 0.9884 - val_loss: 0.0223 - val_binary_accuracy: 0.9912\n",
      "Epoch 8/15\n",
      "334/334 [==============================] - 20s 60ms/step - loss: 0.0220 - binary_accuracy: 0.9931 - val_loss: 0.0181 - val_binary_accuracy: 0.9939\n",
      "Epoch 9/15\n",
      "334/334 [==============================] - 21s 61ms/step - loss: 0.0164 - binary_accuracy: 0.9936 - val_loss: 0.0090 - val_binary_accuracy: 0.9965\n",
      "Epoch 10/15\n",
      "334/334 [==============================] - 19s 57ms/step - loss: 0.0115 - binary_accuracy: 0.9947 - val_loss: 0.0112 - val_binary_accuracy: 0.9947\n",
      "Epoch 11/15\n",
      "334/334 [==============================] - 18s 54ms/step - loss: 0.0103 - binary_accuracy: 0.9949 - val_loss: 0.0079 - val_binary_accuracy: 0.9965\n",
      "Epoch 12/15\n",
      "334/334 [==============================] - 21s 64ms/step - loss: 0.0113 - binary_accuracy: 0.9946 - val_loss: 0.0105 - val_binary_accuracy: 0.9930\n",
      "Epoch 13/15\n",
      "334/334 [==============================] - 23s 69ms/step - loss: 0.0143 - binary_accuracy: 0.9932 - val_loss: 0.0131 - val_binary_accuracy: 0.9947\n",
      "Epoch 14/15\n",
      "334/334 [==============================] - 24s 73ms/step - loss: 0.0109 - binary_accuracy: 0.9940 - val_loss: 0.0071 - val_binary_accuracy: 0.9961\n",
      "Epoch 15/15\n",
      "334/334 [==============================] - 23s 69ms/step - loss: 0.0079 - binary_accuracy: 0.9953 - val_loss: 0.0064 - val_binary_accuracy: 0.9961\n"
     ]
    }
   ],
   "source": [
    "history = model.fit(train_data, epochs=15, validation_data=validation_data)"
   ]
  },
  {
   "cell_type": "code",
   "execution_count": 95,
   "metadata": {},
   "outputs": [
    {
     "data": {
      "image/png": "[encoded data removed]",
      "text/plain": [
       "<Figure size 432x288 with 1 Axes>"
      ]
     },
     "metadata": {
      "needs_background": "light"
     },
     "output_type": "display_data"
    }
   ],
   "source": [
    "plt.plot(history.history[\"loss\"], c=\"r\", label=\"train_loss\")\n",
    "plt.plot(history.history[\"val_loss\"], c=\"b\", label=\"val_loss\")\n",
    "plt.legend(loc=\"upper right\")\n",
    "plt.show()"
   ]
  },
  {
   "cell_type": "code",
   "execution_count": 100,
   "metadata": {},
   "outputs": [
    {
     "data": {
      "image/png": "[encoded data removed]",
      "text/plain": [
       "<Figure size 432x288 with 1 Axes>"
      ]
     },
     "metadata": {
      "needs_background": "light"
     },
     "output_type": "display_data"
    }
   ],
   "source": [
    "plt.plot(history.history[\"binary_accuracy\"], c=\"r\", label=\"train_accuracy\")\n",
    "plt.plot(history.history[\"val_binary_accuracy\"], c=\"b\", label=\"val_accuracy\")\n",
    "plt.legend(loc=\"lower right\")\n",
    "plt.show()"
   ]
  }
 ],
 "metadata": {
  "hide_input": false,
  "kernelspec": {
   "display_name": "Python 3",
   "language": "python",
   "name": "python3"
  },
  "language_info": {
   "codemirror_mode": {
    "name": "ipython",
    "version": 3
   },
   "file_extension": ".py",
   "mimetype": "text/x-python",
   "name": "python",
   "nbconvert_exporter": "python",
   "pygments_lexer": "ipython3",
   "version": "3.7.6"
  },
  "toc": {
   "base_numbering": 1,
   "nav_menu": {},
   "number_sections": true,
   "sideBar": true,
   "skip_h1_title": false,
   "title_cell": "Table of Contents",
   "title_sidebar": "Contents",
   "toc_cell": false,
   "toc_position": {},
   "toc_section_display": true,
   "toc_window_display": false
  }
 },
 "nbformat": 4,
 "nbformat_minor": 4
}
